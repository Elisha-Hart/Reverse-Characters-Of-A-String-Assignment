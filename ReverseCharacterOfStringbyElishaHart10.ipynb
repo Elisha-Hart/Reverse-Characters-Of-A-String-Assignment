{
 "cells": [
  {
   "cell_type": "code",
   "execution_count": 7,
   "id": "a8b1b58e-8b35-4e14-aa9f-bca43ddb75dd",
   "metadata": {},
   "outputs": [
    {
     "name": "stdout",
     "output_type": "stream",
     "text": [
      "The initial character of string is :  Letsupgrade\n",
      "The reversed character of string is :  edargpusteL\n"
     ]
    }
   ],
   "source": [
    "### WAP To Reverse Characters Of The String\n",
    "\n",
    "def Char_Reverse(st):\n",
    "    str = \"\"\n",
    "    for i in st:\n",
    "        str = i + str\n",
    "    return str\n",
    "\n",
    "st = \"Letsupgrade\"\n",
    "\n",
    "print(\"The initial character of string is : \", end = \" \")\n",
    "print(st)\n",
    "\n",
    "print(\"The reversed character of string is : \", end = \" \")\n",
    "print(Char_Reverse(st))"
   ]
  },
  {
   "cell_type": "code",
   "execution_count": null,
   "id": "40bca727-510f-4b69-bcf3-af927cd0c2ad",
   "metadata": {},
   "outputs": [],
   "source": []
  },
  {
   "cell_type": "code",
   "execution_count": null,
   "id": "231c6393-e691-4d22-9001-ba31c51f3778",
   "metadata": {},
   "outputs": [],
   "source": []
  }
 ],
 "metadata": {
  "kernelspec": {
   "display_name": "anaconda-2022.05-py39",
   "language": "python",
   "name": "conda-env-anaconda-2022.05-py39-py"
  },
  "language_info": {
   "codemirror_mode": {
    "name": "ipython",
    "version": 3
   },
   "file_extension": ".py",
   "mimetype": "text/x-python",
   "name": "python",
   "nbconvert_exporter": "python",
   "pygments_lexer": "ipython3",
   "version": "3.9.12"
  }
 },
 "nbformat": 4,
 "nbformat_minor": 5
}
